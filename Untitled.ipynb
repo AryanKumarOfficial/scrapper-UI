{
 "cells": [
  {
   "cell_type": "code",
   "execution_count": 3,
   "id": "15ba330a-6efc-478d-85c9-5bbd3c5f1a20",
   "metadata": {},
   "outputs": [],
   "source": [
    "from numpy import array"
   ]
  },
  {
   "cell_type": "code",
   "execution_count": 5,
   "id": "ac25553d-a193-4035-b415-682aa2a6a0f5",
   "metadata": {},
   "outputs": [],
   "source": [
    "d=(array(['Just', 'loved', 'the', 'product', ',', 'colour', ',', 'design',\n",
    "       'is', 'wow', 'and', 'camera', 'is', 'amazing', ',', 'just',\n",
    "       'clicked', 'first', 'picture', 'of', 'my', 'grandmother', '👵🏻',\n",
    "       'in', 'portrait', 'mode', 'and', 'results', 'r', 'here', 'in',\n",
    "       'front', 'of', 'you', 'guys', '😍😘', 'Awesome', 'photography',\n",
    "       'experience.', 'Battery', 'backup', 'is', 'good', '.', 'Display',\n",
    "       'is', 'much', 'better', 'than', '14', 'version.', 'High',\n",
    "       'quality', 'camera😍', 'I', 'love', 'this', 'phone.', 'The',\n",
    "       'camera', 'is', 'amazing:', 'its', 'I', 'am', 'so', 'happy',\n",
    "       'Camera', 'Quality', 'Is', 'Improved', 'Loving', 'It', 'Nice',\n",
    "       '❤️', 'No', 'doubt', 'this', 'smartphone', 'an', 'art.', 'Best',\n",
    "       'mobile', 'phone', 'Camera', 'quality', 'is', 'very', 'nice',\n",
    "       'Battery', 'backup', 'is', 'very', 'good', 'Sound', 'quality',\n",
    "       'is', 'amazing.', 'Very', 'nice', 'Switch', 'from', 'OnePlus',\n",
    "       'to', 'iPhone', 'I', 'am', 'stunned', 'with', 'camera',\n",
    "       'performance.', 'Everything', 'is', 'perfect', 'on', 'iPhone',\n",
    "       '15.'], dtype='<U12'), 89, 117, 'Apple Iphone 15 Blue 128 Gb Reviews: Latest Review of Apple Iphone 15 Blue 128 Gb | Price in India | Flipkart.com', None)"
   ]
  },
  {
   "cell_type": "code",
   "execution_count": 6,
   "id": "0f678abe-7e1b-4832-8a18-6ba307d89b2e",
   "metadata": {},
   "outputs": [
    {
     "data": {
      "text/plain": [
       "tuple"
      ]
     },
     "execution_count": 6,
     "metadata": {},
     "output_type": "execute_result"
    }
   ],
   "source": [
    "type(d)"
   ]
  },
  {
   "cell_type": "code",
   "execution_count": 7,
   "id": "b21539a7-89e1-49b5-bad1-ae38c83f89e9",
   "metadata": {},
   "outputs": [
    {
     "data": {
      "text/plain": [
       "array(['Just', 'loved', 'the', 'product', ',', 'colour', ',', 'design',\n",
       "       'is', 'wow', 'and', 'camera', 'is', 'amazing', ',', 'just',\n",
       "       'clicked', 'first', 'picture', 'of', 'my', 'grandmother', '👵🏻',\n",
       "       'in', 'portrait', 'mode', 'and', 'results', 'r', 'here', 'in',\n",
       "       'front', 'of', 'you', 'guys', '😍😘', 'Awesome', 'photography',\n",
       "       'experience.', 'Battery', 'backup', 'is', 'good', '.', 'Display',\n",
       "       'is', 'much', 'better', 'than', '14', 'version.', 'High',\n",
       "       'quality', 'camera😍', 'I', 'love', 'this', 'phone.', 'The',\n",
       "       'camera', 'is', 'amazing:', 'its', 'I', 'am', 'so', 'happy',\n",
       "       'Camera', 'Quality', 'Is', 'Improved', 'Loving', 'It', 'Nice',\n",
       "       '❤️', 'No', 'doubt', 'this', 'smartphone', 'an', 'art.', 'Best',\n",
       "       'mobile', 'phone', 'Camera', 'quality', 'is', 'very', 'nice',\n",
       "       'Battery', 'backup', 'is', 'very', 'good', 'Sound', 'quality',\n",
       "       'is', 'amazing.', 'Very', 'nice', 'Switch', 'from', 'OnePlus',\n",
       "       'to', 'iPhone', 'I', 'am', 'stunned', 'with', 'camera',\n",
       "       'performance.', 'Everything', 'is', 'perfect', 'on', 'iPhone',\n",
       "       '15.'], dtype='<U12')"
      ]
     },
     "execution_count": 7,
     "metadata": {},
     "output_type": "execute_result"
    }
   ],
   "source": [
    "d[0]\n"
   ]
  },
  {
   "cell_type": "code",
   "execution_count": 8,
   "id": "2a110331-4184-4c93-9616-d9d869e95d0f",
   "metadata": {},
   "outputs": [
    {
     "data": {
      "text/plain": [
       "array(['Just', 'loved', 'the', 'product', ',', 'colour', ',', 'design',\n",
       "       'is', 'wow', 'and', 'camera', 'is', 'amazing', ',', 'just',\n",
       "       'clicked', 'first', 'picture', 'of', 'my', 'grandmother', '👵🏻',\n",
       "       'in', 'portrait', 'mode', 'and', 'results', 'r', 'here', 'in',\n",
       "       'front', 'of', 'you', 'guys', '😍😘', 'Awesome', 'photography',\n",
       "       'experience.', 'Battery', 'backup', 'is', 'good', '.', 'Display',\n",
       "       'is', 'much', 'better', 'than', '14', 'version.', 'High',\n",
       "       'quality', 'camera😍', 'I', 'love', 'this', 'phone.', 'The',\n",
       "       'camera', 'is', 'amazing:', 'its', 'I', 'am', 'so', 'happy',\n",
       "       'Camera', 'Quality', 'Is', 'Improved', 'Loving', 'It', 'Nice',\n",
       "       '❤️', 'No', 'doubt', 'this', 'smartphone', 'an', 'art.', 'Best',\n",
       "       'mobile', 'phone', 'Camera', 'quality', 'is', 'very', 'nice',\n",
       "       'Battery', 'backup', 'is', 'very', 'good', 'Sound', 'quality',\n",
       "       'is', 'amazing.', 'Very', 'nice', 'Switch', 'from', 'OnePlus',\n",
       "       'to', 'iPhone', 'I', 'am', 'stunned', 'with', 'camera',\n",
       "       'performance.', 'Everything', 'is', 'perfect', 'on', 'iPhone',\n",
       "       '15.'], dtype='<U12')"
      ]
     },
     "execution_count": 8,
     "metadata": {},
     "output_type": "execute_result"
    }
   ],
   "source": [
    "array(d[0])"
   ]
  },
  {
   "cell_type": "code",
   "execution_count": null,
   "id": "3b7909ac-f87d-439d-a6f6-fd6a4258a192",
   "metadata": {},
   "outputs": [],
   "source": []
  }
 ],
 "metadata": {
  "kernelspec": {
   "display_name": "Python 3 (ipykernel)",
   "language": "python",
   "name": "python3"
  },
  "language_info": {
   "codemirror_mode": {
    "name": "ipython",
    "version": 3
   },
   "file_extension": ".py",
   "mimetype": "text/x-python",
   "name": "python",
   "nbconvert_exporter": "python",
   "pygments_lexer": "ipython3",
   "version": "3.12.2"
  }
 },
 "nbformat": 4,
 "nbformat_minor": 5
}
